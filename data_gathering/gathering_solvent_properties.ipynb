{
 "cells": [
  {
   "cell_type": "code",
   "execution_count": 1,
   "id": "6a40e8ad-3e04-433a-93da-1e588969796a",
   "metadata": {},
   "outputs": [],
   "source": [
    "import time\n",
    "import cirpy\n",
    "import re\n",
    "import chemicals\n",
    "\n",
    "from pypdf import PdfReader\n",
    "from tqdm import tqdm\n",
    "from urllib.error import HTTPError \n",
    "from pathlib import Path\n",
    "from urllib.parse import quote\n",
    "from pubchemprops.pubchemprops import get_second_layer_props\n",
    "import pubchempy as pcp\n",
    "from rdkit.Chem.Descriptors import ExactMolWt\n",
    "\n",
    "from IPython.display import Markdown, Image\n",
    "import requests\n",
    "import pandas as pd\n",
    "from rdkit import Chem\n",
    "from rdkit.Chem import PandasTools\n",
    "from rdkit.Chem.Draw import MolsToGridImage\n"
   ]
  },
  {
   "cell_type": "code",
   "execution_count": 2,
   "id": "46a6a197-a67b-40cf-b1b4-5f476c5bd463",
   "metadata": {},
   "outputs": [],
   "source": [
    "HERE = Path(_dh[-1])\n",
    "DATA = HERE / \"data\""
   ]
  },
  {
   "cell_type": "code",
   "execution_count": 3,
   "id": "6641abb6-8537-4193-92bc-1bd66dc4fb90",
   "metadata": {},
   "outputs": [],
   "source": [
    "final_solvent_list = pd.read_csv('updated_datasets/final_solvent_list.csv')\n",
    "\n",
    "prop_pubchem = {'Molecular Weight' : 'MolecularWeight'}\n",
    "\n",
    "for d, row in final_solvent_list.iterrows():\n",
    "    solvent_name = row['Solvent']\n",
    "    url = f\"https://pubchem.ncbi.nlm.nih.gov/rest/pug/compound/name/{solvent_name}/cids/JSON\"\n",
    "    r = requests.get(url)\n",
    "    #r.raise_for_status()\n",
    "    response = r.json()\n",
    "    if \"IdentifierList\" in response:\n",
    "        cid = response[\"IdentifierList\"][\"CID\"][0]\n",
    "        url = f\"https://pubchem.ncbi.nlm.nih.gov/rest/pug/compound/cid/{cid}/property/BoilingPoint/JSON\"\n",
    "        r = requests.get(url)\n",
    "        #r.raise_for_status()\n",
    "        response = r.json()\n",
    "        if \"PropertyTable\" in response:\n",
    "            mol_weight = response[\"PropertyTable\"][\"Properties\"][0]['BoilingPoint']\n",
    "            print(solvent_name, mol_weight)\n",
    "        #else:\n",
    "            #raise ValueError(f\"Could not find matches for PubChem CID: {cid}\")\n",
    "        #print(f\"Molecular weight for {name} is:\\n{mol_weight}\")\n",
    "    #else:\n",
    "        #print(f\"Could not find matches for compound: {solvent_name}\")\n",
    "    #print(f\"PubChem CID for {solvent_name} is:\\n{cid}\")"
   ]
  },
  {
   "cell_type": "code",
   "execution_count": 4,
   "id": "23e59ce2-1556-4ca7-b46f-9ff18b0898c7",
   "metadata": {
    "scrolled": true
   },
   "outputs": [
    {
     "name": "stdout",
     "output_type": "stream",
     "text": [
      "1.08 (US -73.4 °C 139.5 °C 0.843\n"
     ]
    }
   ],
   "source": [
    "\n",
    "#functions for each properties\n",
    "def get_properties(cas_number):\n",
    "    cas_props = get_second_layer_props(cas_number, ['Density', 'Melting Point', 'Boiling Point', 'Viscosity'])\n",
    "    Density = (cas_props['Density'][0]['Value']['StringWithMarkup'][0]['String'][0:8])\n",
    "    MeltingPoint = (cas_props['Melting Point'][1]['Value']['StringWithMarkup'][0]['String'][0:8])\n",
    "    BoilingPoint = (cas_props['Boiling Point'][1]['Value']['StringWithMarkup'][0]['String'][0:8])\n",
    "    Viscosity = (cas_props['Viscosity'][0]['Value']['StringWithMarkup'][0]['String'][0:5])\n",
    "    return Density, MeltingPoint, BoilingPoint, Viscosity\n",
    "\n",
    "D,M,B,V = get_properties('108-24-7')\n",
    "\n",
    "print(D,M,B,V)\n",
    "\n",
    "\n",
    "\n",
    "    \n",
    "\n",
    "\n",
    "\n",
    "\n",
    "\n",
    "\n",
    "\n",
    "\n",
    "        \n"
   ]
  },
  {
   "cell_type": "code",
   "execution_count": 5,
   "id": "af110a59-fed1-4472-89d1-096736eeae07",
   "metadata": {},
   "outputs": [
    {
     "name": "stdout",
     "output_type": "stream",
     "text": [
      "{}\n"
     ]
    },
    {
     "data": {
      "text/plain": [
       "{}"
      ]
     },
     "execution_count": 5,
     "metadata": {},
     "output_type": "execute_result"
    }
   ],
   "source": [
    "\n",
    "def get_properties(cas_number):\n",
    "    value_dict = {}\n",
    "    #MolecularWeightprops = get_first_layer_props(cas_number, ['MolecularWeight'])\n",
    "#    MolecularWeight = MolecularWeightprops['MolecularWeight'] \n",
    "    try:\n",
    "        #cas_props = get_second_layer_props(cas_number, ['Density', 'Melting Point', 'Boiling Point', 'Viscosity', 'Vapor Pressure', 'LogP'])\n",
    "        cas_props = get_second_layer_props(cas_number, ['Hazard Classes and Categories'])\n",
    "        print(cas_props)\n",
    "    except (HTTPError,UnicodeDecodeError):\n",
    "        cas_props = {}\n",
    "        print('Cas_NotFound',cas_number)\n",
    "    for key, val in cas_props.items():\n",
    "        for i in val:\n",
    "            if 'Value' in i.keys():\n",
    "                den_value = i['Value']\n",
    "                if 'StringWithMarkup' in den_value.keys():\n",
    "                    #print(den_value['StringWithMarkup'][0])\n",
    "                    string_dict = den_value['StringWithMarkup'][0]\n",
    "                    if 'String' in string_dict.keys():\n",
    "                        if key in ['Melting Point', 'Boiling Point']:\n",
    "                            if '°C' in string_dict['String']:\n",
    "                                value_dict[key] = string_dict['String']\n",
    "                        elif key == 'Vapor Pressure':\n",
    "                            if 'mm Hg at 25 °C' in string_dict['String']:\n",
    "                                value_dict[key] = string_dict['String']\n",
    "                        elif key == 'Viscosity':\n",
    "                            if 'Pa' in string_dict['String']:\n",
    "                                value_dict[key] = string_dict['String']\n",
    "                        #elif key == 'Other Experimental Properties':\n",
    "                                print(value_dict[key])\n",
    "                        else:\n",
    "                            value_dict[key] = string_dict['String']\n",
    " #   cas_props['Molecular Weight'] = MolecularWeight\n",
    "                        \n",
    "                        \n",
    "                        \n",
    "    return value_dict\n",
    "\n",
    "#MW,D,M,B,V,VP,LP = get_properties('107-06-2')\n",
    "get_properties('67-64-1')\n",
    "\n",
    "#print(MW,D,M,B,V,VP,LP)"
   ]
  },
  {
   "cell_type": "code",
   "execution_count": 6,
   "id": "9563027b-f97c-4187-b133-a9d11583e886",
   "metadata": {},
   "outputs": [
    {
     "name": "stdout",
     "output_type": "stream",
     "text": [
      "1.08 (US -73.4 °C 139.5 °C 0.843 mPa.s at \n"
     ]
    }
   ],
   "source": [
    "def get_properties(cas_number):\n",
    "    cas_props = get_second_layer_props(cas_number, ['Density', 'Melting Point', 'Boiling Point', 'Viscosity'])\n",
    "    Density = (cas_props['Density'][0]['Value']['StringWithMarkup'][0]['String'][0:8])\n",
    "    MeltingPoint = (cas_props['Melting Point'][1]['Value']['StringWithMarkup'][0]['String'][0:8])\n",
    "    BoilingPoint = (cas_props['Boiling Point'][1]['Value']['StringWithMarkup'][0]['String'][0:8])\n",
    "    Viscosity = (cas_props['Viscosity'][0]['Value']['StringWithMarkup'][0]['String'][0:15])\n",
    "    return Density, MeltingPoint, BoilingPoint, Viscosity\n",
    "\n",
    "D,M,B,V = get_properties('108-24-7')\n",
    "\n",
    "print(D,M,B,V)"
   ]
  },
  {
   "cell_type": "code",
   "execution_count": 7,
   "id": "8ec766e1-e995-4537-9bc4-2187285760f8",
   "metadata": {},
   "outputs": [
    {
     "name": "stdout",
     "output_type": "stream",
     "text": [
      "[{'ReferenceNumber': 30, 'Reference': ['The Good Scents Company Information System'], 'Value': {'StringWithMarkup': [{'String': '-0.480'}]}}, {'ReferenceNumber': 31, 'Name': '', 'Value': {'StringWithMarkup': [{'String': '-0.27 (calculated)'}]}}]\n"
     ]
    },
    {
     "data": {
      "text/plain": [
       "-0.27"
      ]
     },
     "execution_count": 7,
     "metadata": {},
     "output_type": "execute_result"
    }
   ],
   "source": [
    "def get_LogP(LogP):\n",
    "    LogP_props = get_second_layer_props(LogP, ['LogP'])\n",
    "    x = LogP_props['LogP']\n",
    "    print(x)\n",
    "    LogP = float(x[1]['Value']['StringWithMarkup'][0]['String'][0:5])\n",
    "    return LogP\n",
    "\n",
    "get_LogP('108-24-7')"
   ]
  },
  {
   "cell_type": "code",
   "execution_count": 14,
   "id": "c84fec08-178e-4cff-a685-b9658181534c",
   "metadata": {},
   "outputs": [
    {
     "name": "stderr",
     "output_type": "stream",
     "text": [
      "C:\\Users\\dadab\\AppData\\Local\\Temp\\ipykernel_40372\\373297683.py:2: FutureWarning: Setting an item of incompatible dtype is deprecated and will raise in a future error of pandas. Value '' has dtype incompatible with float64, please explicitly cast to a compatible dtype first.\n",
      "  formatted_properties_values.fillna('', inplace = True)\n",
      " 15%|█▌        | 57/369 [00:04<00:23, 13.55it/s] \n"
     ]
    },
    {
     "ename": "KeyError",
     "evalue": "0",
     "output_type": "error",
     "traceback": [
      "\u001b[1;31m---------------------------------------------------------------------------\u001b[0m",
      "\u001b[1;31mKeyError\u001b[0m                                  Traceback (most recent call last)",
      "File \u001b[1;32mc:\\Users\\dadab\\anaconda3\\envs\\COMP_CHEM\\Lib\\site-packages\\pandas\\core\\indexes\\base.py:3791\u001b[0m, in \u001b[0;36mIndex.get_loc\u001b[1;34m(self, key)\u001b[0m\n\u001b[0;32m   3790\u001b[0m \u001b[38;5;28;01mtry\u001b[39;00m:\n\u001b[1;32m-> 3791\u001b[0m     \u001b[38;5;28;01mreturn\u001b[39;00m \u001b[38;5;28mself\u001b[39m\u001b[38;5;241m.\u001b[39m_engine\u001b[38;5;241m.\u001b[39mget_loc(casted_key)\n\u001b[0;32m   3792\u001b[0m \u001b[38;5;28;01mexcept\u001b[39;00m \u001b[38;5;167;01mKeyError\u001b[39;00m \u001b[38;5;28;01mas\u001b[39;00m err:\n",
      "File \u001b[1;32mindex.pyx:152\u001b[0m, in \u001b[0;36mpandas._libs.index.IndexEngine.get_loc\u001b[1;34m()\u001b[0m\n",
      "File \u001b[1;32mindex.pyx:181\u001b[0m, in \u001b[0;36mpandas._libs.index.IndexEngine.get_loc\u001b[1;34m()\u001b[0m\n",
      "File \u001b[1;32mpandas\\_libs\\hashtable_class_helper.pxi:7080\u001b[0m, in \u001b[0;36mpandas._libs.hashtable.PyObjectHashTable.get_item\u001b[1;34m()\u001b[0m\n",
      "File \u001b[1;32mpandas\\_libs\\hashtable_class_helper.pxi:7088\u001b[0m, in \u001b[0;36mpandas._libs.hashtable.PyObjectHashTable.get_item\u001b[1;34m()\u001b[0m\n",
      "\u001b[1;31mKeyError\u001b[0m: 0",
      "\nThe above exception was the direct cause of the following exception:\n",
      "\u001b[1;31mKeyError\u001b[0m                                  Traceback (most recent call last)",
      "Cell \u001b[1;32mIn[14], line 12\u001b[0m\n\u001b[0;32m     10\u001b[0m prop_dict \u001b[38;5;241m=\u001b[39m get_properties(cas_number)\n\u001b[0;32m     11\u001b[0m \u001b[38;5;28;01mfor\u001b[39;00m key, val \u001b[38;5;129;01min\u001b[39;00m \u001b[38;5;28menumerate\u001b[39m(prop_dict):\n\u001b[1;32m---> 12\u001b[0m     key_values \u001b[38;5;241m=\u001b[39m formatted_properties_values\u001b[38;5;241m.\u001b[39mloc[idx, key]\n\u001b[0;32m     13\u001b[0m     \u001b[38;5;28;01mif\u001b[39;00m key_values \u001b[38;5;241m==\u001b[39m \u001b[38;5;124m'\u001b[39m\u001b[38;5;124m'\u001b[39m:\n\u001b[0;32m     14\u001b[0m         formatted_properties_values\u001b[38;5;241m.\u001b[39mat[idx, key] \u001b[38;5;241m=\u001b[39m val\n",
      "File \u001b[1;32mc:\\Users\\dadab\\anaconda3\\envs\\COMP_CHEM\\Lib\\site-packages\\pandas\\core\\indexing.py:1146\u001b[0m, in \u001b[0;36m_LocationIndexer.__getitem__\u001b[1;34m(self, key)\u001b[0m\n\u001b[0;32m   1144\u001b[0m     key \u001b[38;5;241m=\u001b[39m \u001b[38;5;28mtuple\u001b[39m(com\u001b[38;5;241m.\u001b[39mapply_if_callable(x, \u001b[38;5;28mself\u001b[39m\u001b[38;5;241m.\u001b[39mobj) \u001b[38;5;28;01mfor\u001b[39;00m x \u001b[38;5;129;01min\u001b[39;00m key)\n\u001b[0;32m   1145\u001b[0m     \u001b[38;5;28;01mif\u001b[39;00m \u001b[38;5;28mself\u001b[39m\u001b[38;5;241m.\u001b[39m_is_scalar_access(key):\n\u001b[1;32m-> 1146\u001b[0m         \u001b[38;5;28;01mreturn\u001b[39;00m \u001b[38;5;28mself\u001b[39m\u001b[38;5;241m.\u001b[39mobj\u001b[38;5;241m.\u001b[39m_get_value(\u001b[38;5;241m*\u001b[39mkey, takeable\u001b[38;5;241m=\u001b[39m\u001b[38;5;28mself\u001b[39m\u001b[38;5;241m.\u001b[39m_takeable)\n\u001b[0;32m   1147\u001b[0m     \u001b[38;5;28;01mreturn\u001b[39;00m \u001b[38;5;28mself\u001b[39m\u001b[38;5;241m.\u001b[39m_getitem_tuple(key)\n\u001b[0;32m   1148\u001b[0m \u001b[38;5;28;01melse\u001b[39;00m:\n\u001b[0;32m   1149\u001b[0m     \u001b[38;5;66;03m# we by definition only have the 0th axis\u001b[39;00m\n",
      "File \u001b[1;32mc:\\Users\\dadab\\anaconda3\\envs\\COMP_CHEM\\Lib\\site-packages\\pandas\\core\\frame.py:4005\u001b[0m, in \u001b[0;36mDataFrame._get_value\u001b[1;34m(self, index, col, takeable)\u001b[0m\n\u001b[0;32m   4002\u001b[0m     series \u001b[38;5;241m=\u001b[39m \u001b[38;5;28mself\u001b[39m\u001b[38;5;241m.\u001b[39m_ixs(col, axis\u001b[38;5;241m=\u001b[39m\u001b[38;5;241m1\u001b[39m)\n\u001b[0;32m   4003\u001b[0m     \u001b[38;5;28;01mreturn\u001b[39;00m series\u001b[38;5;241m.\u001b[39m_values[index]\n\u001b[1;32m-> 4005\u001b[0m series \u001b[38;5;241m=\u001b[39m \u001b[38;5;28mself\u001b[39m\u001b[38;5;241m.\u001b[39m_get_item_cache(col)\n\u001b[0;32m   4006\u001b[0m engine \u001b[38;5;241m=\u001b[39m \u001b[38;5;28mself\u001b[39m\u001b[38;5;241m.\u001b[39mindex\u001b[38;5;241m.\u001b[39m_engine\n\u001b[0;32m   4008\u001b[0m \u001b[38;5;28;01mif\u001b[39;00m \u001b[38;5;129;01mnot\u001b[39;00m \u001b[38;5;28misinstance\u001b[39m(\u001b[38;5;28mself\u001b[39m\u001b[38;5;241m.\u001b[39mindex, MultiIndex):\n\u001b[0;32m   4009\u001b[0m     \u001b[38;5;66;03m# CategoricalIndex: Trying to use the engine fastpath may give incorrect\u001b[39;00m\n\u001b[0;32m   4010\u001b[0m     \u001b[38;5;66;03m#  results if our categories are integers that dont match our codes\u001b[39;00m\n\u001b[0;32m   4011\u001b[0m     \u001b[38;5;66;03m# IntervalIndex: IntervalTree has no get_loc\u001b[39;00m\n",
      "File \u001b[1;32mc:\\Users\\dadab\\anaconda3\\envs\\COMP_CHEM\\Lib\\site-packages\\pandas\\core\\frame.py:4414\u001b[0m, in \u001b[0;36mDataFrame._get_item_cache\u001b[1;34m(self, item)\u001b[0m\n\u001b[0;32m   4409\u001b[0m res \u001b[38;5;241m=\u001b[39m cache\u001b[38;5;241m.\u001b[39mget(item)\n\u001b[0;32m   4410\u001b[0m \u001b[38;5;28;01mif\u001b[39;00m res \u001b[38;5;129;01mis\u001b[39;00m \u001b[38;5;28;01mNone\u001b[39;00m:\n\u001b[0;32m   4411\u001b[0m     \u001b[38;5;66;03m# All places that call _get_item_cache have unique columns,\u001b[39;00m\n\u001b[0;32m   4412\u001b[0m     \u001b[38;5;66;03m#  pending resolution of GH#33047\u001b[39;00m\n\u001b[1;32m-> 4414\u001b[0m     loc \u001b[38;5;241m=\u001b[39m \u001b[38;5;28mself\u001b[39m\u001b[38;5;241m.\u001b[39mcolumns\u001b[38;5;241m.\u001b[39mget_loc(item)\n\u001b[0;32m   4415\u001b[0m     res \u001b[38;5;241m=\u001b[39m \u001b[38;5;28mself\u001b[39m\u001b[38;5;241m.\u001b[39m_ixs(loc, axis\u001b[38;5;241m=\u001b[39m\u001b[38;5;241m1\u001b[39m)\n\u001b[0;32m   4417\u001b[0m     cache[item] \u001b[38;5;241m=\u001b[39m res\n",
      "File \u001b[1;32mc:\\Users\\dadab\\anaconda3\\envs\\COMP_CHEM\\Lib\\site-packages\\pandas\\core\\indexes\\base.py:3798\u001b[0m, in \u001b[0;36mIndex.get_loc\u001b[1;34m(self, key)\u001b[0m\n\u001b[0;32m   3793\u001b[0m     \u001b[38;5;28;01mif\u001b[39;00m \u001b[38;5;28misinstance\u001b[39m(casted_key, \u001b[38;5;28mslice\u001b[39m) \u001b[38;5;129;01mor\u001b[39;00m (\n\u001b[0;32m   3794\u001b[0m         \u001b[38;5;28misinstance\u001b[39m(casted_key, abc\u001b[38;5;241m.\u001b[39mIterable)\n\u001b[0;32m   3795\u001b[0m         \u001b[38;5;129;01mand\u001b[39;00m \u001b[38;5;28many\u001b[39m(\u001b[38;5;28misinstance\u001b[39m(x, \u001b[38;5;28mslice\u001b[39m) \u001b[38;5;28;01mfor\u001b[39;00m x \u001b[38;5;129;01min\u001b[39;00m casted_key)\n\u001b[0;32m   3796\u001b[0m     ):\n\u001b[0;32m   3797\u001b[0m         \u001b[38;5;28;01mraise\u001b[39;00m InvalidIndexError(key)\n\u001b[1;32m-> 3798\u001b[0m     \u001b[38;5;28;01mraise\u001b[39;00m \u001b[38;5;167;01mKeyError\u001b[39;00m(key) \u001b[38;5;28;01mfrom\u001b[39;00m \u001b[38;5;21;01merr\u001b[39;00m\n\u001b[0;32m   3799\u001b[0m \u001b[38;5;28;01mexcept\u001b[39;00m \u001b[38;5;167;01mTypeError\u001b[39;00m:\n\u001b[0;32m   3800\u001b[0m     \u001b[38;5;66;03m# If we have a listlike key, _check_indexing_error will raise\u001b[39;00m\n\u001b[0;32m   3801\u001b[0m     \u001b[38;5;66;03m#  InvalidIndexError. Otherwise we fall through and re-raise\u001b[39;00m\n\u001b[0;32m   3802\u001b[0m     \u001b[38;5;66;03m#  the TypeError.\u001b[39;00m\n\u001b[0;32m   3803\u001b[0m     \u001b[38;5;28mself\u001b[39m\u001b[38;5;241m.\u001b[39m_check_indexing_error(key)\n",
      "\u001b[1;31mKeyError\u001b[0m: 0"
     ]
    }
   ],
   "source": [
    "formatted_properties_values = pd.read_csv('updated_datasets/updated_with_viscosity_values.csv')\n",
    "formatted_properties_values.fillna('', inplace = True)\n",
    "\n",
    "\n",
    "dfindex = formatted_properties_values.index.values\n",
    "#print(dfindex)\n",
    "for idx in tqdm(dfindex):\n",
    "    if idx > 56:\n",
    "        cas_number = formatted_properties_values.loc[idx, 'Cas Number']\n",
    "        prop_dict = get_properties(cas_number)\n",
    "        for key, val in enumerate(prop_dict):\n",
    "            key_values = formatted_properties_values.loc[idx, key]\n",
    "            if key_values == '':\n",
    "                formatted_properties_values.at[idx, key] = val\n",
    "\n",
    "    formatted_properties_values.to_csv('updated_datasets/updated_with_all_viscosity_values.csv')\n",
    "    \n",
    "    "
   ]
  },
  {
   "cell_type": "code",
   "execution_count": 15,
   "id": "a5e4bdce-e438-40e8-92c7-37d35e65857e",
   "metadata": {},
   "outputs": [
    {
     "name": "stderr",
     "output_type": "stream",
     "text": [
      "C:\\Users\\dadab\\AppData\\Local\\Temp\\ipykernel_40372\\2095037544.py:2: FutureWarning: Setting an item of incompatible dtype is deprecated and will raise in a future error of pandas. Value '' has dtype incompatible with float64, please explicitly cast to a compatible dtype first.\n",
      "  formatted_solvent_properties.fillna('', inplace = True)\n",
      " 65%|██████▍   | 266/411 [03:15<02:05,  1.16it/s]"
     ]
    },
    {
     "name": "stdout",
     "output_type": "stream",
     "text": [
      "265\n"
     ]
    },
    {
     "name": "stderr",
     "output_type": "stream",
     "text": [
      " 65%|██████▍   | 267/411 [03:16<01:55,  1.25it/s]"
     ]
    },
    {
     "name": "stdout",
     "output_type": "stream",
     "text": [
      "266\n"
     ]
    },
    {
     "name": "stderr",
     "output_type": "stream",
     "text": [
      " 65%|██████▌   | 268/411 [03:17<01:52,  1.27it/s]"
     ]
    },
    {
     "name": "stdout",
     "output_type": "stream",
     "text": [
      "267\n"
     ]
    },
    {
     "name": "stderr",
     "output_type": "stream",
     "text": [
      " 65%|██████▌   | 269/411 [03:17<01:44,  1.36it/s]"
     ]
    },
    {
     "name": "stdout",
     "output_type": "stream",
     "text": [
      "268\n"
     ]
    },
    {
     "name": "stderr",
     "output_type": "stream",
     "text": [
      " 66%|██████▌   | 271/411 [03:19<01:44,  1.34it/s]"
     ]
    },
    {
     "name": "stdout",
     "output_type": "stream",
     "text": [
      "270\n"
     ]
    },
    {
     "name": "stderr",
     "output_type": "stream",
     "text": [
      " 66%|██████▌   | 272/411 [03:19<01:41,  1.36it/s]"
     ]
    },
    {
     "name": "stdout",
     "output_type": "stream",
     "text": [
      "271\n"
     ]
    },
    {
     "name": "stderr",
     "output_type": "stream",
     "text": [
      " 66%|██████▋   | 273/411 [03:20<01:52,  1.22it/s]"
     ]
    },
    {
     "name": "stdout",
     "output_type": "stream",
     "text": [
      "272\n"
     ]
    },
    {
     "name": "stderr",
     "output_type": "stream",
     "text": [
      " 67%|██████▋   | 274/411 [03:21<01:51,  1.23it/s]"
     ]
    },
    {
     "name": "stdout",
     "output_type": "stream",
     "text": [
      "273\n"
     ]
    },
    {
     "name": "stderr",
     "output_type": "stream",
     "text": [
      " 67%|██████▋   | 275/411 [03:22<01:44,  1.30it/s]"
     ]
    },
    {
     "name": "stdout",
     "output_type": "stream",
     "text": [
      "274\n"
     ]
    },
    {
     "name": "stderr",
     "output_type": "stream",
     "text": [
      " 67%|██████▋   | 276/411 [03:23<01:42,  1.31it/s]"
     ]
    },
    {
     "name": "stdout",
     "output_type": "stream",
     "text": [
      "275\n"
     ]
    },
    {
     "name": "stderr",
     "output_type": "stream",
     "text": [
      " 67%|██████▋   | 277/411 [03:23<01:35,  1.40it/s]"
     ]
    },
    {
     "name": "stdout",
     "output_type": "stream",
     "text": [
      "276\n"
     ]
    },
    {
     "name": "stderr",
     "output_type": "stream",
     "text": [
      " 72%|███████▏  | 294/411 [03:39<01:47,  1.09it/s]"
     ]
    },
    {
     "name": "stdout",
     "output_type": "stream",
     "text": [
      "293\n"
     ]
    },
    {
     "name": "stderr",
     "output_type": "stream",
     "text": [
      " 82%|████████▏ | 336/411 [04:18<01:07,  1.12it/s][17:32:11] WARNING: not removing hydrogen atom without neighbors\n",
      "100%|██████████| 411/411 [05:29<00:00,  1.25it/s]\n"
     ]
    }
   ],
   "source": [
    "formatted_solvent_properties = pd.read_csv('updated_datasets/formatted_properties_values.csv')\n",
    "formatted_solvent_properties.fillna('', inplace = True)\n",
    "\n",
    "dfindex = formatted_solvent_properties.index.values\n",
    "#print(dfindex)\n",
    "for idx in tqdm(dfindex):\n",
    "    if idx > 56:\n",
    "        cas_number = formatted_solvent_properties.loc[idx, 'Cas Number']\n",
    "        formatted_smi_string = cirpy.resolve(cas_number, 'smiles')\n",
    "        try:\n",
    "            get_mol_weight = ExactMolWt(Chem.MolFromSmiles(formatted_smi_string))\n",
    "        except TypeError:\n",
    "            print(idx)\n",
    "            get_mol_weight = ''\n",
    "        mol_weight = formatted_solvent_properties.loc[idx, 'Molecular Weight']\n",
    "        #print(mol_weight)\n",
    "        if mol_weight == '':\n",
    "               formatted_solvent_properties.at[idx, 'Molecular Weight'] = get_mol_weight\n",
    "\n",
    "    formatted_solvent_properties.to_csv('updated_datasets/updated_mol_weight_values.csv')\n",
    "        \n",
    "\n"
   ]
  },
  {
   "cell_type": "code",
   "execution_count": 16,
   "id": "72f7798c-b45f-47bf-9726-cc68d6dcd048",
   "metadata": {},
   "outputs": [
    {
     "data": {
      "text/plain": [
       "{'Other Experimental Properties': [{'ReferenceNumber': 37,\n",
       "   'Description': 'PEER REVIEWED',\n",
       "   'Reference': ['IARC. Monographs on the Evaluation of the Carcinogenic Risk  of Chemicals to Humans. Geneva: World Health Organization,  International Agency for Research on Cancer, 1972-PRESENT.  (Multivolume work). Available at: https://monographs.iarc.fr/ENG/Classification/index.php, p. V20 430 (1979)'],\n",
       "   'Value': {'StringWithMarkup': [{'String': '1 ppm in air = 4 mg/cu m'}]}},\n",
       "  {'ReferenceNumber': 37,\n",
       "   'Description': 'PEER REVIEWED',\n",
       "   'Reference': [\"Larranaga, M.D., Lewis, R.J. Sr., Lewis, R.A.; Hawley's Condensed Chemical Dictionary 16th  Edition. John Wiley & Sons, Inc. Hoboken, NJ 2016., p. 583\"],\n",
       "   'Value': {'StringWithMarkup': [{'String': 'Resistant to oxidation'}]}},\n",
       "  {'ReferenceNumber': 37,\n",
       "   'Description': 'PEER REVIEWED',\n",
       "   'Reference': ['Snedecor G et al; Chloroethylenes. Kirk-Othmer Encyclopedia of Chemical Technology. (1999-2018). New York, NY: John Wiley & Sons. Online Posting Date: 16 Jan 2004'],\n",
       "   'Value': {'StringWithMarkup': [{'String': 'Thermal conductivity: 0.143 W/(mK) at 20 °C (liq)'}]}},\n",
       "  {'ReferenceNumber': 37,\n",
       "   'Description': 'PEER REVIEWED',\n",
       "   'Reference': ['Snedecor G et al; Chloroethylenes. Kirk-Othmer Encyclopedia of Chemical Technology. (1999-2018). New York, NY: John Wiley & Sons. Online Posting Date: 16 Jan 2004'],\n",
       "   'Value': {'StringWithMarkup': [{'String': 'Dielectric constant: 10.45 at 20 °C (liq), 1.0048 at 120 °C (vapor)'}]}},\n",
       "  {'ReferenceNumber': 37,\n",
       "   'Description': 'PEER REVIEWED',\n",
       "   'Value': {'StringWithMarkup': [{'String': 'For more Other Experimental Properties (Complete) data for 1,2-Dichloroethane (20 total), please visit the HSDB record page.',\n",
       "      'Markup': [{'Start': 107,\n",
       "        'Length': 16,\n",
       "        'URL': 'https://pubchem.ncbi.nlm.nih.gov/source/hsdb/65#section=Other-Experimental-Properties-(Complete)'},\n",
       "       {'Start': 59,\n",
       "        'Length': 18,\n",
       "        'URL': 'https://pubchem.ncbi.nlm.nih.gov/compound/1%2C2-Dichloroethane',\n",
       "        'Type': 'PubChem Internal Link',\n",
       "        'Extra': 'CID-11'}]}]}}]}"
      ]
     },
     "execution_count": 16,
     "metadata": {},
     "output_type": "execute_result"
    }
   ],
   "source": [
    "def get_refractive(cas_number):\n",
    "    value_dict = {}\n",
    "    try:\n",
    "        cas_props = get_second_layer_props(cas_number, ['Other Experimental Properties'])\n",
    "    except (HTTPError,UnicodeDecodeError):\n",
    "        print(cas_number)\n",
    "    return cas_props\n",
    "\n",
    "get_refractive('107-06-2')\n",
    "        "
   ]
  },
  {
   "cell_type": "code",
   "execution_count": 17,
   "id": "093dd9b6-6c24-47a0-8534-7e8d2994858f",
   "metadata": {},
   "outputs": [
    {
     "name": "stdout",
     "output_type": "stream",
     "text": [
      "{'Other Experimental Properties': [{'ReferenceNumber': 37, 'Description': 'PEER REVIEWED', 'Reference': ['IARC. Monographs on the Evaluation of the Carcinogenic Risk  of Chemicals to Humans. Geneva: World Health Organization,  International Agency for Research on Cancer, 1972-PRESENT.  (Multivolume work). Available at: https://monographs.iarc.fr/ENG/Classification/index.php, p. V20 430 (1979)'], 'Value': {'StringWithMarkup': [{'String': '1 ppm in air = 4 mg/cu m'}]}}, {'ReferenceNumber': 37, 'Description': 'PEER REVIEWED', 'Reference': [\"Larranaga, M.D., Lewis, R.J. Sr., Lewis, R.A.; Hawley's Condensed Chemical Dictionary 16th  Edition. John Wiley & Sons, Inc. Hoboken, NJ 2016., p. 583\"], 'Value': {'StringWithMarkup': [{'String': 'Resistant to oxidation'}]}}, {'ReferenceNumber': 37, 'Description': 'PEER REVIEWED', 'Reference': ['Snedecor G et al; Chloroethylenes. Kirk-Othmer Encyclopedia of Chemical Technology. (1999-2018). New York, NY: John Wiley & Sons. Online Posting Date: 16 Jan 2004'], 'Value': {'StringWithMarkup': [{'String': 'Thermal conductivity: 0.143 W/(mK) at 20 °C (liq)'}]}}, {'ReferenceNumber': 37, 'Description': 'PEER REVIEWED', 'Reference': ['Snedecor G et al; Chloroethylenes. Kirk-Othmer Encyclopedia of Chemical Technology. (1999-2018). New York, NY: John Wiley & Sons. Online Posting Date: 16 Jan 2004'], 'Value': {'StringWithMarkup': [{'String': 'Dielectric constant: 10.45 at 20 °C (liq), 1.0048 at 120 °C (vapor)'}]}}, {'ReferenceNumber': 37, 'Description': 'PEER REVIEWED', 'Value': {'StringWithMarkup': [{'String': 'For more Other Experimental Properties (Complete) data for 1,2-Dichloroethane (20 total), please visit the HSDB record page.', 'Markup': [{'Start': 107, 'Length': 16, 'URL': 'https://pubchem.ncbi.nlm.nih.gov/source/hsdb/65#section=Other-Experimental-Properties-(Complete)'}, {'Start': 59, 'Length': 18, 'URL': 'https://pubchem.ncbi.nlm.nih.gov/compound/1%2C2-Dichloroethane', 'Type': 'PubChem Internal Link', 'Extra': 'CID-11'}]}]}}]}\n"
     ]
    }
   ],
   "source": [
    "cas_props = get_second_layer_props('107-06-2', ['Other Experimental Properties'])\n",
    "print(cas_props)\n"
   ]
  },
  {
   "cell_type": "code",
   "execution_count": 18,
   "id": "bf76e263-498e-4b75-a7cd-134820b6da58",
   "metadata": {},
   "outputs": [
    {
     "name": "stdout",
     "output_type": "stream",
     "text": [
      "<_io.BufferedReader name='updated_datasets/Dilectric-Constants_organic_solvents_2.pdf'>\n"
     ]
    },
    {
     "name": "stderr",
     "output_type": "stream",
     "text": [
      "  1%|▏         | 1/72 [00:39<47:17, 39.97s/it]"
     ]
    },
    {
     "name": "stdout",
     "output_type": "stream",
     "text": [
      "{'Dielectric constant': ['22', '7', '8.2', '6.1', '17.2', '-11.5', '4.5', '3.4', '2.2', '2.4', '6', '-1.8', '25', '22', '18.9', '16.5', '1.0072', '7.2', '7'], 'Solvent': ['ALLYL ALCOHOL ', 'ALLYL BROMIDE ', 'ALLYL CHLORIDE ', 'ALLYL IODIDE ', 'ALLYL ISOTHIOCYANATE ', 'ALUMINA ', 'ALUMINA ', 'ALUMINUM BROMIDE ', 'ALUMINUM FLUORIDE ', 'ALUMINUM OLEATE ', 'ALUMINUM PHOSPHATE ', 'ALUMINUM POWDER ', 'AMMONIA ', 'AMMONIA ', 'AMMONIA ', 'AMMONIA ', 'AMMONIA GAS ', 'AMMONIUM BROMIDE ', 'AMMONIUM CHLORIDE '], 'Cas Number': ['107-18-6', '106-95-6', '107-05-1', '556-56-9', ['58391-87-0', '50978-48-8', '57-06-7', '50888-64-7', '107231-30-1'], '1302-74-5', '1302-74-5', ['12794-92-2', '7727-15-3', '39380-76-2', '56803-00-0'], '7784-18-1', '688-37-9', ['135151-77-8', '13765-93-0', '36201-72-6', '37324-42-8', '51668-55-4', '52350-11-5', '7784-30-7', '8022-59-1', '89686-54-4', '93237-81-1'], ['113962-66-6', '12766-45-9', '182260-45-3', '37202-64-5', '39302-71-1', '39332-62-2', '80341-19-1', '91728-14-2', '7429-90-5'], ['15194-15-7', '17778-88-0', '208990-07-2', '214478-05-4', '8007-57-6', '13774-92-0', '7664-41-7'], ['15194-15-7', '17778-88-0', '208990-07-2', '214478-05-4', '8007-57-6', '13774-92-0', '7664-41-7'], ['15194-15-7', '17778-88-0', '208990-07-2', '214478-05-4', '8007-57-6', '13774-92-0', '7664-41-7'], ['15194-15-7', '17778-88-0', '208990-07-2', '214478-05-4', '8007-57-6', '13774-92-0', '7664-41-7'], ['15194-15-7', '17778-88-0', '208990-07-2', '214478-05-4', '8007-57-6', '13774-92-0', '7664-41-7'], ['7789-32-4', '101215-76-3', '12124-97-9', '14216-86-5', '204322-88-3'], ['12125-02-9', '127634-24-6', '128532-42-3', '154383-48-9', '15630-61-2', '20548-08-7', '50295-88-0', '54450-56-5', '55871-05-1', '75944-36-4', '89485-84-7', '89485-85-8']]}\n"
     ]
    },
    {
     "name": "stderr",
     "output_type": "stream",
     "text": [
      "  3%|▎         | 2/72 [01:17<45:12, 38.75s/it]"
     ]
    },
    {
     "name": "stdout",
     "output_type": "stream",
     "text": [
      "{'Dielectric constant': ['22', '7', '8.2', '6.1', '17.2', '-11.5', '4.5', '3.4', '2.2', '2.4', '6', '-1.8', '25', '22', '18.9', '16.5', '1.0072', '7.2', '7', '5', '35.5', '15.8', '11.2', '5.1', '6.3', '6.6', '3.1', '5.7', '6.9', '9.1', '17.4', '4.6', '2', '4.7', '7.8', '7.3', '5.5', '15.8', '4.3', '3.2', '20.9', '33'], 'Solvent': ['ALLYL ALCOHOL ', 'ALLYL BROMIDE ', 'ALLYL CHLORIDE ', 'ALLYL IODIDE ', 'ALLYL ISOTHIOCYANATE ', 'ALUMINA ', 'ALUMINA ', 'ALUMINUM BROMIDE ', 'ALUMINUM FLUORIDE ', 'ALUMINUM OLEATE ', 'ALUMINUM PHOSPHATE ', 'ALUMINUM POWDER ', 'AMMONIA ', 'AMMONIA ', 'AMMONIA ', 'AMMONIA ', 'AMMONIA GAS ', 'AMMONIUM BROMIDE ', 'AMMONIUM CHLORIDE ', 'AMYL ACETATE ', 'AMYL ALCOHOL ', 'AMYL ALCOHOL ', 'AMYL ALCOHOL ', 'AMYL BENZOATE ', 'AMYL BROMIDE ', 'AMYL CHLORIDE ', 'AMYL ETHER ', 'AMYL FORMATE ', 'AMYL IODIDE ', 'AMYL NITRATE ', 'AMYL THIOCYANATE ', 'AMYLAMINE ', 'AMYLENE ', 'AMYLMERCAPTAN ', 'ANILINE ', 'ANILINE ', 'ANILINE ', 'ANISALDEHYDE ', 'ANISOLE ', 'ANTIMONY PENTACHLORIDE ', 'ANTIMONY TRIBROMIDE ', 'ANTIMONY TRICHLORIDE '], 'Cas Number': ['107-18-6', '106-95-6', '107-05-1', '556-56-9', ['58391-87-0', '50978-48-8', '57-06-7', '50888-64-7', '107231-30-1'], '1302-74-5', '1302-74-5', ['12794-92-2', '7727-15-3', '39380-76-2', '56803-00-0'], '7784-18-1', '688-37-9', ['135151-77-8', '13765-93-0', '36201-72-6', '37324-42-8', '51668-55-4', '52350-11-5', '7784-30-7', '8022-59-1', '89686-54-4', '93237-81-1'], ['113962-66-6', '12766-45-9', '182260-45-3', '37202-64-5', '39302-71-1', '39332-62-2', '80341-19-1', '91728-14-2', '7429-90-5'], ['15194-15-7', '17778-88-0', '208990-07-2', '214478-05-4', '8007-57-6', '13774-92-0', '7664-41-7'], ['15194-15-7', '17778-88-0', '208990-07-2', '214478-05-4', '8007-57-6', '13774-92-0', '7664-41-7'], ['15194-15-7', '17778-88-0', '208990-07-2', '214478-05-4', '8007-57-6', '13774-92-0', '7664-41-7'], ['15194-15-7', '17778-88-0', '208990-07-2', '214478-05-4', '8007-57-6', '13774-92-0', '7664-41-7'], ['15194-15-7', '17778-88-0', '208990-07-2', '214478-05-4', '8007-57-6', '13774-92-0', '7664-41-7'], ['7789-32-4', '101215-76-3', '12124-97-9', '14216-86-5', '204322-88-3'], ['12125-02-9', '127634-24-6', '128532-42-3', '154383-48-9', '15630-61-2', '20548-08-7', '50295-88-0', '54450-56-5', '55871-05-1', '75944-36-4', '89485-84-7', '89485-85-8'], '628-63-7', '71-41-0', '71-41-0', '71-41-0', '2049-96-9', '110-53-2', ['543-59-9', '29656-63-1'], '693-65-2', '638-49-3', '628-17-1', '1002-16-0', '32446-40-5', '110-58-7', '513-35-9', '110-66-7', ['62-53-3', '146997-94-6', '17843-02-6', '53894-37-4', '37342-16-8'], ['62-53-3', '146997-94-6', '17843-02-6', '53894-37-4', '37342-16-8'], ['62-53-3', '146997-94-6', '17843-02-6', '53894-37-4', '37342-16-8'], ['26249-15-0', '68894-36-0', '123-11-5', '50984-52-6'], '100-66-3', ['12314-11-3', '7647-18-9'], '7789-61-9', ['39357-85-2', '59922-49-5', '8007-28-1', '12515-76-3']]}\n"
     ]
    },
    {
     "name": "stderr",
     "output_type": "stream",
     "text": [
      "  4%|▍         | 3/72 [01:53<42:57, 37.36s/it]"
     ]
    },
    {
     "name": "stdout",
     "output_type": "stream",
     "text": [
      "{'Dielectric constant': ['22', '7', '8.2', '6.1', '17.2', '-11.5', '4.5', '3.4', '2.2', '2.4', '6', '-1.8', '25', '22', '18.9', '16.5', '1.0072', '7.2', '7', '5', '35.5', '15.8', '11.2', '5.1', '6.3', '6.6', '3.1', '5.7', '6.9', '9.1', '17.4', '4.6', '2', '4.7', '7.8', '7.3', '5.5', '15.8', '4.3', '3.2', '20.9', '33', '5.3', '1.5', '1.000513', '9', '7', '12.4', '7', '5.1', '9.4', '5.8', '11.4'], 'Solvent': ['ALLYL ALCOHOL ', 'ALLYL BROMIDE ', 'ALLYL CHLORIDE ', 'ALLYL IODIDE ', 'ALLYL ISOTHIOCYANATE ', 'ALUMINA ', 'ALUMINA ', 'ALUMINUM BROMIDE ', 'ALUMINUM FLUORIDE ', 'ALUMINUM OLEATE ', 'ALUMINUM PHOSPHATE ', 'ALUMINUM POWDER ', 'AMMONIA ', 'AMMONIA ', 'AMMONIA ', 'AMMONIA ', 'AMMONIA GAS ', 'AMMONIUM BROMIDE ', 'AMMONIUM CHLORIDE ', 'AMYL ACETATE ', 'AMYL ALCOHOL ', 'AMYL ALCOHOL ', 'AMYL ALCOHOL ', 'AMYL BENZOATE ', 'AMYL BROMIDE ', 'AMYL CHLORIDE ', 'AMYL ETHER ', 'AMYL FORMATE ', 'AMYL IODIDE ', 'AMYL NITRATE ', 'AMYL THIOCYANATE ', 'AMYLAMINE ', 'AMYLENE ', 'AMYLMERCAPTAN ', 'ANILINE ', 'ANILINE ', 'ANILINE ', 'ANISALDEHYDE ', 'ANISOLE ', 'ANTIMONY PENTACHLORIDE ', 'ANTIMONY TRIBROMIDE ', 'ANTIMONY TRICHLORIDE ', 'ANTIMONY TRICHLORIDE ', 'ARGON ', 'ARGON ', 'ARSENIC TRIBROMIDE ', 'ARSENIC TRICHLORIDE ', 'ARSENIC TRICHLORIDE ', 'ARSENIC TRIIODIDE ', 'AZOXYBENZENE ', 'BARIUM CHLORIDE ', 'BARIUM NITRATE ', 'BARIUM SULFATE '], 'Cas Number': ['107-18-6', '106-95-6', '107-05-1', '556-56-9', ['58391-87-0', '50978-48-8', '57-06-7', '50888-64-7', '107231-30-1'], '1302-74-5', '1302-74-5', ['12794-92-2', '7727-15-3', '39380-76-2', '56803-00-0'], '7784-18-1', '688-37-9', ['135151-77-8', '13765-93-0', '36201-72-6', '37324-42-8', '51668-55-4', '52350-11-5', '7784-30-7', '8022-59-1', '89686-54-4', '93237-81-1'], ['113962-66-6', '12766-45-9', '182260-45-3', '37202-64-5', '39302-71-1', '39332-62-2', '80341-19-1', '91728-14-2', '7429-90-5'], ['15194-15-7', '17778-88-0', '208990-07-2', '214478-05-4', '8007-57-6', '13774-92-0', '7664-41-7'], ['15194-15-7', '17778-88-0', '208990-07-2', '214478-05-4', '8007-57-6', '13774-92-0', '7664-41-7'], ['15194-15-7', '17778-88-0', '208990-07-2', '214478-05-4', '8007-57-6', '13774-92-0', '7664-41-7'], ['15194-15-7', '17778-88-0', '208990-07-2', '214478-05-4', '8007-57-6', '13774-92-0', '7664-41-7'], ['15194-15-7', '17778-88-0', '208990-07-2', '214478-05-4', '8007-57-6', '13774-92-0', '7664-41-7'], ['7789-32-4', '101215-76-3', '12124-97-9', '14216-86-5', '204322-88-3'], ['12125-02-9', '127634-24-6', '128532-42-3', '154383-48-9', '15630-61-2', '20548-08-7', '50295-88-0', '54450-56-5', '55871-05-1', '75944-36-4', '89485-84-7', '89485-85-8'], '628-63-7', '71-41-0', '71-41-0', '71-41-0', '2049-96-9', '110-53-2', ['543-59-9', '29656-63-1'], '693-65-2', '638-49-3', '628-17-1', '1002-16-0', '32446-40-5', '110-58-7', '513-35-9', '110-66-7', ['62-53-3', '146997-94-6', '17843-02-6', '53894-37-4', '37342-16-8'], ['62-53-3', '146997-94-6', '17843-02-6', '53894-37-4', '37342-16-8'], ['62-53-3', '146997-94-6', '17843-02-6', '53894-37-4', '37342-16-8'], ['26249-15-0', '68894-36-0', '123-11-5', '50984-52-6'], '100-66-3', ['12314-11-3', '7647-18-9'], '7789-61-9', ['39357-85-2', '59922-49-5', '8007-28-1', '12515-76-3'], ['39357-85-2', '59922-49-5', '8007-28-1', '12515-76-3'], ['13473-05-7', '137736-93-7', '24494-51-7', '50938-66-4', '7440-37-1', '75714-55-5'], ['13473-05-7', '137736-93-7', '24494-51-7', '50938-66-4', '7440-37-1', '75714-55-5'], '7784-33-0', ['7784-34-1', '8011-67-4'], ['7784-34-1', '8011-67-4'], '7784-45-4', ['495-48-7', '55599-32-1'], '10361-37-2', '10022-31-8', ['13462-86-7', '12751-32-5', '7727-43-7', '8054-35-1']]}\n"
     ]
    },
    {
     "name": "stderr",
     "output_type": "stream",
     "text": [
      "  4%|▍         | 3/72 [02:12<50:48, 44.18s/it]\n"
     ]
    },
    {
     "ename": "KeyboardInterrupt",
     "evalue": "",
     "output_type": "error",
     "traceback": [
      "\u001b[1;31m---------------------------------------------------------------------------\u001b[0m",
      "\u001b[1;31mKeyboardInterrupt\u001b[0m                         Traceback (most recent call last)",
      "Cell \u001b[1;32mIn[18], line 43\u001b[0m\n\u001b[0;32m     39\u001b[0m             df\u001b[38;5;241m.\u001b[39mto_csv(\u001b[38;5;124m'\u001b[39m\u001b[38;5;124mData_dielectric_constant.csv\u001b[39m\u001b[38;5;124m'\u001b[39m)\n\u001b[0;32m     41\u001b[0m     \u001b[38;5;28;01mreturn\u001b[39;00m de_constant,com_names,cas_num\n\u001b[1;32m---> 43\u001b[0m de_constant, com_names, cas_num \u001b[38;5;241m=\u001b[39m Extracting_de_constants()\n\u001b[0;32m     44\u001b[0m \u001b[38;5;28mprint\u001b[39m(\u001b[38;5;28mlen\u001b[39m(de_constant))\n\u001b[0;32m     45\u001b[0m \u001b[38;5;66;03m#print(com_names)\u001b[39;00m\n",
      "Cell \u001b[1;32mIn[18], line 26\u001b[0m, in \u001b[0;36mExtracting_de_constants\u001b[1;34m()\u001b[0m\n\u001b[0;32m     24\u001b[0m combined_name \u001b[38;5;241m=\u001b[39m (combined_name \u001b[38;5;241m+\u001b[39m d\u001b[38;5;241m+\u001b[39m\u001b[38;5;124m'\u001b[39m\u001b[38;5;124m \u001b[39m\u001b[38;5;124m'\u001b[39m)\n\u001b[0;32m     25\u001b[0m \u001b[38;5;28;01mtry\u001b[39;00m:\n\u001b[1;32m---> 26\u001b[0m     formatted_cas \u001b[38;5;241m=\u001b[39m cirpy\u001b[38;5;241m.\u001b[39mresolve(combined_name, \u001b[38;5;124m'\u001b[39m\u001b[38;5;124mcas\u001b[39m\u001b[38;5;124m'\u001b[39m)\n\u001b[0;32m     27\u001b[0m \u001b[38;5;28;01mexcept\u001b[39;00m HTTPError:\n\u001b[0;32m     28\u001b[0m     formatted_cas \u001b[38;5;241m=\u001b[39m \u001b[38;5;28;01mNone\u001b[39;00m\n",
      "File \u001b[1;32mc:\\Users\\dadab\\anaconda3\\envs\\COMP_CHEM\\Lib\\site-packages\\cirpy.py:192\u001b[0m, in \u001b[0;36mresolve\u001b[1;34m(input, representation, resolvers, get3d, **kwargs)\u001b[0m\n\u001b[0;32m    180\u001b[0m \u001b[38;5;250m\u001b[39m\u001b[38;5;124;03m\"\"\"Resolve input to the specified output representation.\u001b[39;00m\n\u001b[0;32m    181\u001b[0m \n\u001b[0;32m    182\u001b[0m \u001b[38;5;124;03m:param string input: Chemical identifier to resolve\u001b[39;00m\n\u001b[1;32m   (...)\u001b[0m\n\u001b[0;32m    189\u001b[0m \u001b[38;5;124;03m:raises ParseError: if CIR response is uninterpretable\u001b[39;00m\n\u001b[0;32m    190\u001b[0m \u001b[38;5;124;03m\"\"\"\u001b[39;00m\n\u001b[0;32m    191\u001b[0m \u001b[38;5;66;03m# Take first result from XML query\u001b[39;00m\n\u001b[1;32m--> 192\u001b[0m results \u001b[38;5;241m=\u001b[39m query(\u001b[38;5;28minput\u001b[39m, representation, resolvers, \u001b[38;5;28;01mFalse\u001b[39;00m, get3d, \u001b[38;5;241m*\u001b[39m\u001b[38;5;241m*\u001b[39mkwargs)\n\u001b[0;32m    193\u001b[0m result \u001b[38;5;241m=\u001b[39m results[\u001b[38;5;241m0\u001b[39m]\u001b[38;5;241m.\u001b[39mvalue \u001b[38;5;28;01mif\u001b[39;00m results \u001b[38;5;28;01melse\u001b[39;00m \u001b[38;5;28;01mNone\u001b[39;00m\n\u001b[0;32m    194\u001b[0m \u001b[38;5;28;01mreturn\u001b[39;00m result\n",
      "File \u001b[1;32mc:\\Users\\dadab\\anaconda3\\envs\\COMP_CHEM\\Lib\\site-packages\\cirpy.py:162\u001b[0m, in \u001b[0;36mquery\u001b[1;34m(input, representation, resolvers, get3d, tautomers, **kwargs)\u001b[0m\n\u001b[0;32m    149\u001b[0m \u001b[38;5;28;01mdef\u001b[39;00m \u001b[38;5;21mquery\u001b[39m(\u001b[38;5;28minput\u001b[39m, representation, resolvers\u001b[38;5;241m=\u001b[39m\u001b[38;5;28;01mNone\u001b[39;00m, get3d\u001b[38;5;241m=\u001b[39m\u001b[38;5;28;01mFalse\u001b[39;00m, tautomers\u001b[38;5;241m=\u001b[39m\u001b[38;5;28;01mFalse\u001b[39;00m, \u001b[38;5;241m*\u001b[39m\u001b[38;5;241m*\u001b[39mkwargs):\n\u001b[0;32m    150\u001b[0m \u001b[38;5;250m    \u001b[39m\u001b[38;5;124;03m\"\"\"Get all results for resolving input to the specified output representation.\u001b[39;00m\n\u001b[0;32m    151\u001b[0m \n\u001b[0;32m    152\u001b[0m \u001b[38;5;124;03m    :param string input: Chemical identifier to resolve\u001b[39;00m\n\u001b[1;32m   (...)\u001b[0m\n\u001b[0;32m    160\u001b[0m \u001b[38;5;124;03m    :raises ParseError: if CIR response is uninterpretable\u001b[39;00m\n\u001b[0;32m    161\u001b[0m \u001b[38;5;124;03m    \"\"\"\u001b[39;00m\n\u001b[1;32m--> 162\u001b[0m     tree \u001b[38;5;241m=\u001b[39m request(\u001b[38;5;28minput\u001b[39m, representation, resolvers, get3d, tautomers, \u001b[38;5;241m*\u001b[39m\u001b[38;5;241m*\u001b[39mkwargs)\n\u001b[0;32m    163\u001b[0m     results \u001b[38;5;241m=\u001b[39m []\n\u001b[0;32m    164\u001b[0m     \u001b[38;5;28;01mfor\u001b[39;00m data \u001b[38;5;129;01min\u001b[39;00m tree\u001b[38;5;241m.\u001b[39mfindall(\u001b[38;5;124m'\u001b[39m\u001b[38;5;124m.//data\u001b[39m\u001b[38;5;124m'\u001b[39m):\n",
      "File \u001b[1;32mc:\\Users\\dadab\\anaconda3\\envs\\COMP_CHEM\\Lib\\site-packages\\cirpy.py:95\u001b[0m, in \u001b[0;36mrequest\u001b[1;34m(input, representation, resolvers, get3d, tautomers, **kwargs)\u001b[0m\n\u001b[0;32m     93\u001b[0m url \u001b[38;5;241m=\u001b[39m construct_api_url(\u001b[38;5;28minput\u001b[39m, representation, resolvers, get3d, tautomers, \u001b[38;5;241m*\u001b[39m\u001b[38;5;241m*\u001b[39mkwargs)\n\u001b[0;32m     94\u001b[0m log\u001b[38;5;241m.\u001b[39mdebug(\u001b[38;5;124m'\u001b[39m\u001b[38;5;124mMaking request: \u001b[39m\u001b[38;5;132;01m%s\u001b[39;00m\u001b[38;5;124m'\u001b[39m, url)\n\u001b[1;32m---> 95\u001b[0m response \u001b[38;5;241m=\u001b[39m urlopen(url)\n\u001b[0;32m     96\u001b[0m \u001b[38;5;28;01mreturn\u001b[39;00m etree\u001b[38;5;241m.\u001b[39mparse(response)\u001b[38;5;241m.\u001b[39mgetroot()\n",
      "File \u001b[1;32mc:\\Users\\dadab\\anaconda3\\envs\\COMP_CHEM\\Lib\\urllib\\request.py:216\u001b[0m, in \u001b[0;36murlopen\u001b[1;34m(url, data, timeout, cafile, capath, cadefault, context)\u001b[0m\n\u001b[0;32m    214\u001b[0m \u001b[38;5;28;01melse\u001b[39;00m:\n\u001b[0;32m    215\u001b[0m     opener \u001b[38;5;241m=\u001b[39m _opener\n\u001b[1;32m--> 216\u001b[0m \u001b[38;5;28;01mreturn\u001b[39;00m opener\u001b[38;5;241m.\u001b[39mopen(url, data, timeout)\n",
      "File \u001b[1;32mc:\\Users\\dadab\\anaconda3\\envs\\COMP_CHEM\\Lib\\urllib\\request.py:519\u001b[0m, in \u001b[0;36mOpenerDirector.open\u001b[1;34m(self, fullurl, data, timeout)\u001b[0m\n\u001b[0;32m    516\u001b[0m     req \u001b[38;5;241m=\u001b[39m meth(req)\n\u001b[0;32m    518\u001b[0m sys\u001b[38;5;241m.\u001b[39maudit(\u001b[38;5;124m'\u001b[39m\u001b[38;5;124murllib.Request\u001b[39m\u001b[38;5;124m'\u001b[39m, req\u001b[38;5;241m.\u001b[39mfull_url, req\u001b[38;5;241m.\u001b[39mdata, req\u001b[38;5;241m.\u001b[39mheaders, req\u001b[38;5;241m.\u001b[39mget_method())\n\u001b[1;32m--> 519\u001b[0m response \u001b[38;5;241m=\u001b[39m \u001b[38;5;28mself\u001b[39m\u001b[38;5;241m.\u001b[39m_open(req, data)\n\u001b[0;32m    521\u001b[0m \u001b[38;5;66;03m# post-process response\u001b[39;00m\n\u001b[0;32m    522\u001b[0m meth_name \u001b[38;5;241m=\u001b[39m protocol\u001b[38;5;241m+\u001b[39m\u001b[38;5;124m\"\u001b[39m\u001b[38;5;124m_response\u001b[39m\u001b[38;5;124m\"\u001b[39m\n",
      "File \u001b[1;32mc:\\Users\\dadab\\anaconda3\\envs\\COMP_CHEM\\Lib\\urllib\\request.py:536\u001b[0m, in \u001b[0;36mOpenerDirector._open\u001b[1;34m(self, req, data)\u001b[0m\n\u001b[0;32m    533\u001b[0m     \u001b[38;5;28;01mreturn\u001b[39;00m result\n\u001b[0;32m    535\u001b[0m protocol \u001b[38;5;241m=\u001b[39m req\u001b[38;5;241m.\u001b[39mtype\n\u001b[1;32m--> 536\u001b[0m result \u001b[38;5;241m=\u001b[39m \u001b[38;5;28mself\u001b[39m\u001b[38;5;241m.\u001b[39m_call_chain(\u001b[38;5;28mself\u001b[39m\u001b[38;5;241m.\u001b[39mhandle_open, protocol, protocol \u001b[38;5;241m+\u001b[39m\n\u001b[0;32m    537\u001b[0m                           \u001b[38;5;124m'\u001b[39m\u001b[38;5;124m_open\u001b[39m\u001b[38;5;124m'\u001b[39m, req)\n\u001b[0;32m    538\u001b[0m \u001b[38;5;28;01mif\u001b[39;00m result:\n\u001b[0;32m    539\u001b[0m     \u001b[38;5;28;01mreturn\u001b[39;00m result\n",
      "File \u001b[1;32mc:\\Users\\dadab\\anaconda3\\envs\\COMP_CHEM\\Lib\\urllib\\request.py:496\u001b[0m, in \u001b[0;36mOpenerDirector._call_chain\u001b[1;34m(self, chain, kind, meth_name, *args)\u001b[0m\n\u001b[0;32m    494\u001b[0m \u001b[38;5;28;01mfor\u001b[39;00m handler \u001b[38;5;129;01min\u001b[39;00m handlers:\n\u001b[0;32m    495\u001b[0m     func \u001b[38;5;241m=\u001b[39m \u001b[38;5;28mgetattr\u001b[39m(handler, meth_name)\n\u001b[1;32m--> 496\u001b[0m     result \u001b[38;5;241m=\u001b[39m func(\u001b[38;5;241m*\u001b[39margs)\n\u001b[0;32m    497\u001b[0m     \u001b[38;5;28;01mif\u001b[39;00m result \u001b[38;5;129;01mis\u001b[39;00m \u001b[38;5;129;01mnot\u001b[39;00m \u001b[38;5;28;01mNone\u001b[39;00m:\n\u001b[0;32m    498\u001b[0m         \u001b[38;5;28;01mreturn\u001b[39;00m result\n",
      "File \u001b[1;32mc:\\Users\\dadab\\anaconda3\\envs\\COMP_CHEM\\Lib\\urllib\\request.py:1391\u001b[0m, in \u001b[0;36mHTTPSHandler.https_open\u001b[1;34m(self, req)\u001b[0m\n\u001b[0;32m   1390\u001b[0m \u001b[38;5;28;01mdef\u001b[39;00m \u001b[38;5;21mhttps_open\u001b[39m(\u001b[38;5;28mself\u001b[39m, req):\n\u001b[1;32m-> 1391\u001b[0m     \u001b[38;5;28;01mreturn\u001b[39;00m \u001b[38;5;28mself\u001b[39m\u001b[38;5;241m.\u001b[39mdo_open(http\u001b[38;5;241m.\u001b[39mclient\u001b[38;5;241m.\u001b[39mHTTPSConnection, req,\n\u001b[0;32m   1392\u001b[0m         context\u001b[38;5;241m=\u001b[39m\u001b[38;5;28mself\u001b[39m\u001b[38;5;241m.\u001b[39m_context, check_hostname\u001b[38;5;241m=\u001b[39m\u001b[38;5;28mself\u001b[39m\u001b[38;5;241m.\u001b[39m_check_hostname)\n",
      "File \u001b[1;32mc:\\Users\\dadab\\anaconda3\\envs\\COMP_CHEM\\Lib\\urllib\\request.py:1352\u001b[0m, in \u001b[0;36mAbstractHTTPHandler.do_open\u001b[1;34m(self, http_class, req, **http_conn_args)\u001b[0m\n\u001b[0;32m   1350\u001b[0m     \u001b[38;5;28;01mexcept\u001b[39;00m \u001b[38;5;167;01mOSError\u001b[39;00m \u001b[38;5;28;01mas\u001b[39;00m err: \u001b[38;5;66;03m# timeout error\u001b[39;00m\n\u001b[0;32m   1351\u001b[0m         \u001b[38;5;28;01mraise\u001b[39;00m URLError(err)\n\u001b[1;32m-> 1352\u001b[0m     r \u001b[38;5;241m=\u001b[39m h\u001b[38;5;241m.\u001b[39mgetresponse()\n\u001b[0;32m   1353\u001b[0m \u001b[38;5;28;01mexcept\u001b[39;00m:\n\u001b[0;32m   1354\u001b[0m     h\u001b[38;5;241m.\u001b[39mclose()\n",
      "File \u001b[1;32mc:\\Users\\dadab\\anaconda3\\envs\\COMP_CHEM\\Lib\\http\\client.py:1374\u001b[0m, in \u001b[0;36mHTTPConnection.getresponse\u001b[1;34m(self)\u001b[0m\n\u001b[0;32m   1372\u001b[0m \u001b[38;5;28;01mtry\u001b[39;00m:\n\u001b[0;32m   1373\u001b[0m     \u001b[38;5;28;01mtry\u001b[39;00m:\n\u001b[1;32m-> 1374\u001b[0m         response\u001b[38;5;241m.\u001b[39mbegin()\n\u001b[0;32m   1375\u001b[0m     \u001b[38;5;28;01mexcept\u001b[39;00m \u001b[38;5;167;01mConnectionError\u001b[39;00m:\n\u001b[0;32m   1376\u001b[0m         \u001b[38;5;28mself\u001b[39m\u001b[38;5;241m.\u001b[39mclose()\n",
      "File \u001b[1;32mc:\\Users\\dadab\\anaconda3\\envs\\COMP_CHEM\\Lib\\http\\client.py:318\u001b[0m, in \u001b[0;36mHTTPResponse.begin\u001b[1;34m(self)\u001b[0m\n\u001b[0;32m    316\u001b[0m \u001b[38;5;66;03m# read until we get a non-100 response\u001b[39;00m\n\u001b[0;32m    317\u001b[0m \u001b[38;5;28;01mwhile\u001b[39;00m \u001b[38;5;28;01mTrue\u001b[39;00m:\n\u001b[1;32m--> 318\u001b[0m     version, status, reason \u001b[38;5;241m=\u001b[39m \u001b[38;5;28mself\u001b[39m\u001b[38;5;241m.\u001b[39m_read_status()\n\u001b[0;32m    319\u001b[0m     \u001b[38;5;28;01mif\u001b[39;00m status \u001b[38;5;241m!=\u001b[39m CONTINUE:\n\u001b[0;32m    320\u001b[0m         \u001b[38;5;28;01mbreak\u001b[39;00m\n",
      "File \u001b[1;32mc:\\Users\\dadab\\anaconda3\\envs\\COMP_CHEM\\Lib\\http\\client.py:279\u001b[0m, in \u001b[0;36mHTTPResponse._read_status\u001b[1;34m(self)\u001b[0m\n\u001b[0;32m    278\u001b[0m \u001b[38;5;28;01mdef\u001b[39;00m \u001b[38;5;21m_read_status\u001b[39m(\u001b[38;5;28mself\u001b[39m):\n\u001b[1;32m--> 279\u001b[0m     line \u001b[38;5;241m=\u001b[39m \u001b[38;5;28mstr\u001b[39m(\u001b[38;5;28mself\u001b[39m\u001b[38;5;241m.\u001b[39mfp\u001b[38;5;241m.\u001b[39mreadline(_MAXLINE \u001b[38;5;241m+\u001b[39m \u001b[38;5;241m1\u001b[39m), \u001b[38;5;124m\"\u001b[39m\u001b[38;5;124miso-8859-1\u001b[39m\u001b[38;5;124m\"\u001b[39m)\n\u001b[0;32m    280\u001b[0m     \u001b[38;5;28;01mif\u001b[39;00m \u001b[38;5;28mlen\u001b[39m(line) \u001b[38;5;241m>\u001b[39m _MAXLINE:\n\u001b[0;32m    281\u001b[0m         \u001b[38;5;28;01mraise\u001b[39;00m LineTooLong(\u001b[38;5;124m\"\u001b[39m\u001b[38;5;124mstatus line\u001b[39m\u001b[38;5;124m\"\u001b[39m)\n",
      "File \u001b[1;32mc:\\Users\\dadab\\anaconda3\\envs\\COMP_CHEM\\Lib\\socket.py:705\u001b[0m, in \u001b[0;36mSocketIO.readinto\u001b[1;34m(self, b)\u001b[0m\n\u001b[0;32m    703\u001b[0m \u001b[38;5;28;01mwhile\u001b[39;00m \u001b[38;5;28;01mTrue\u001b[39;00m:\n\u001b[0;32m    704\u001b[0m     \u001b[38;5;28;01mtry\u001b[39;00m:\n\u001b[1;32m--> 705\u001b[0m         \u001b[38;5;28;01mreturn\u001b[39;00m \u001b[38;5;28mself\u001b[39m\u001b[38;5;241m.\u001b[39m_sock\u001b[38;5;241m.\u001b[39mrecv_into(b)\n\u001b[0;32m    706\u001b[0m     \u001b[38;5;28;01mexcept\u001b[39;00m timeout:\n\u001b[0;32m    707\u001b[0m         \u001b[38;5;28mself\u001b[39m\u001b[38;5;241m.\u001b[39m_timeout_occurred \u001b[38;5;241m=\u001b[39m \u001b[38;5;28;01mTrue\u001b[39;00m\n",
      "File \u001b[1;32mc:\\Users\\dadab\\anaconda3\\envs\\COMP_CHEM\\Lib\\ssl.py:1278\u001b[0m, in \u001b[0;36mSSLSocket.recv_into\u001b[1;34m(self, buffer, nbytes, flags)\u001b[0m\n\u001b[0;32m   1274\u001b[0m     \u001b[38;5;28;01mif\u001b[39;00m flags \u001b[38;5;241m!=\u001b[39m \u001b[38;5;241m0\u001b[39m:\n\u001b[0;32m   1275\u001b[0m         \u001b[38;5;28;01mraise\u001b[39;00m \u001b[38;5;167;01mValueError\u001b[39;00m(\n\u001b[0;32m   1276\u001b[0m           \u001b[38;5;124m\"\u001b[39m\u001b[38;5;124mnon-zero flags not allowed in calls to recv_into() on \u001b[39m\u001b[38;5;132;01m%s\u001b[39;00m\u001b[38;5;124m\"\u001b[39m \u001b[38;5;241m%\u001b[39m\n\u001b[0;32m   1277\u001b[0m           \u001b[38;5;28mself\u001b[39m\u001b[38;5;241m.\u001b[39m\u001b[38;5;18m__class__\u001b[39m)\n\u001b[1;32m-> 1278\u001b[0m     \u001b[38;5;28;01mreturn\u001b[39;00m \u001b[38;5;28mself\u001b[39m\u001b[38;5;241m.\u001b[39mread(nbytes, buffer)\n\u001b[0;32m   1279\u001b[0m \u001b[38;5;28;01melse\u001b[39;00m:\n\u001b[0;32m   1280\u001b[0m     \u001b[38;5;28;01mreturn\u001b[39;00m \u001b[38;5;28msuper\u001b[39m()\u001b[38;5;241m.\u001b[39mrecv_into(buffer, nbytes, flags)\n",
      "File \u001b[1;32mc:\\Users\\dadab\\anaconda3\\envs\\COMP_CHEM\\Lib\\ssl.py:1134\u001b[0m, in \u001b[0;36mSSLSocket.read\u001b[1;34m(self, len, buffer)\u001b[0m\n\u001b[0;32m   1132\u001b[0m \u001b[38;5;28;01mtry\u001b[39;00m:\n\u001b[0;32m   1133\u001b[0m     \u001b[38;5;28;01mif\u001b[39;00m buffer \u001b[38;5;129;01mis\u001b[39;00m \u001b[38;5;129;01mnot\u001b[39;00m \u001b[38;5;28;01mNone\u001b[39;00m:\n\u001b[1;32m-> 1134\u001b[0m         \u001b[38;5;28;01mreturn\u001b[39;00m \u001b[38;5;28mself\u001b[39m\u001b[38;5;241m.\u001b[39m_sslobj\u001b[38;5;241m.\u001b[39mread(\u001b[38;5;28mlen\u001b[39m, buffer)\n\u001b[0;32m   1135\u001b[0m     \u001b[38;5;28;01melse\u001b[39;00m:\n\u001b[0;32m   1136\u001b[0m         \u001b[38;5;28;01mreturn\u001b[39;00m \u001b[38;5;28mself\u001b[39m\u001b[38;5;241m.\u001b[39m_sslobj\u001b[38;5;241m.\u001b[39mread(\u001b[38;5;28mlen\u001b[39m)\n",
      "\u001b[1;31mKeyboardInterrupt\u001b[0m: "
     ]
    }
   ],
   "source": [
    "def Extracting_de_constants():\n",
    "    with open('updated_datasets/Dilectric-Constants_organic_solvents_2.pdf', 'rb') as f:\n",
    "        print(f)\n",
    "        reader = PdfReader(f)\n",
    "        de_constant = []\n",
    "        com_names = []\n",
    "        cas_num = []\n",
    "\n",
    "        for j in tqdm(range (1,73)):\n",
    "            pg = reader.pages [j]\n",
    "            txt = pg.extract_text()\n",
    "            #print(txt.strip())\n",
    "            #print(txt.split('\\n'))\n",
    "            for n in txt.split('\\n'):\n",
    "                #print(n)\n",
    "                numbers = re.findall(r\"[-+]?(?:\\d*\\.*\\d+)\", n)\n",
    "                alphabets = re.findall(r'[a-zA-Z]+', n)\n",
    "                #print(alphabets,numbers)\n",
    "                if len(numbers) > 0:\n",
    "                    #print(alphabets, numbers [-1])\n",
    "                    #de_constant.append(numbers[-1])\n",
    "                    combined_name = ''\n",
    "                    for d in alphabets:\n",
    "                        combined_name = (combined_name + d+' ')\n",
    "                        try:\n",
    "                            formatted_cas = cirpy.resolve(combined_name, 'cas')\n",
    "                        except HTTPError:\n",
    "                            formatted_cas = None\n",
    "                    if formatted_cas is not None:\n",
    "                        cas_num.append(formatted_cas)\n",
    "                        com_names.append(combined_name)\n",
    "                        de_constant.append(numbers[-1])\n",
    "                        #print(combined_name)\n",
    "            data = {'Dielectric constant': de_constant,\n",
    "                   'Solvent': com_names,\n",
    "                   'Cas Number': cas_num} \n",
    "            print(data)\n",
    "            df = pd.DataFrame(data)\n",
    "            df.to_csv('Data_dielectric_constant.csv')\n",
    "            \n",
    "    return de_constant,com_names,cas_num\n",
    "\n",
    "de_constant, com_names, cas_num = Extracting_de_constants()\n",
    "print(len(de_constant))\n",
    "#print(com_names)\n",
    "print(len(com_names))\n",
    "print(len(cas_num))\n",
    "#print(de_constant,com_names)"
   ]
  },
  {
   "cell_type": "code",
   "execution_count": 199,
   "id": "a743c9f7-11db-48d0-9b58-6573456bf90e",
   "metadata": {},
   "outputs": [
    {
     "name": "stderr",
     "output_type": "stream",
     "text": [
      "100%|██████████| 1955/1955 [00:00<00:00, 63252.50it/s]\n"
     ]
    }
   ],
   "source": [
    "formatted_solvent_properties = pd.read_csv('updated_datasets/updated_Dielectric_constant_values.csv')\n",
    "data_dielectric_constant = pd.read_csv('Data_dielectric_constant.csv')\n",
    "\n",
    "all_cas_number = formatted_solvent_properties['Cas Number'].values.\n",
    "#print(all_cas_number)\n",
    "\n",
    "for idx in tqdm(data_dielectric_constant.index.values):\n",
    "    cas_number = data_dielectric_constant.loc[idx, 'Cas Number']\n",
    "    if isinstance(cas_number, str):\n",
    "        if cas_number in all_cas_number:\n",
    "            list_index = all_cas_number.index(cas_number)\n",
    "            de_constant = data_dielectric_constant.loc[idx, 'Dielectric constant']\n",
    "            formatted_solvent_properties.at[list_index, 'Dielectric Constant'] = de_constant\n",
    "    else:\n",
    "        for i in cas_number:\n",
    "            if i in all_cas_number:\n",
    "                list_index = all_cas_number.index(i)\n",
    "                de_constant = data_dielectric_constant.loc[idx, 'Dielectric constant']\n",
    "                formatted_solvent_properties.at[list_index, 'Dielectric Constant'] = de_constant\n",
    "\n",
    "formatted_solvent_properties.to_csv('Updated_with_all_props_values.csv')\n",
    "    \n",
    "    \n",
    "    \n",
    "    \n"
   ]
  },
  {
   "cell_type": "code",
   "execution_count": 16,
   "id": "44e4ea48-bc3a-4cc5-854c-1915ed7b0cdd",
   "metadata": {},
   "outputs": [
    {
     "name": "stdout",
     "output_type": "stream",
     "text": [
      "2.87998704896212\n"
     ]
    }
   ],
   "source": [
    "dip_moment = chemicals.dipole.dipole_moment('67-64-1', method = 'MULLER')\n",
    "print(dip_moment)"
   ]
  },
  {
   "cell_type": "code",
   "execution_count": 19,
   "id": "8765f7df-0a6b-4586-91af-ced472923dd3",
   "metadata": {},
   "outputs": [
    {
     "name": "stderr",
     "output_type": "stream",
     "text": [
      "C:\\Users\\dadab\\AppData\\Local\\Temp\\ipykernel_16052\\1638233206.py:3: FutureWarning: Setting an item of incompatible dtype is deprecated and will raise in a future error of pandas. Value '' has dtype incompatible with float64, please explicitly cast to a compatible dtype first.\n",
      "  all_props_values.fillna('', inplace = True)\n",
      "100%|██████████| 411/411 [00:02<00:00, 189.49it/s]\n"
     ]
    }
   ],
   "source": [
    "all_props_values = pd.read_csv('Updated_with_all_props_values.csv')\n",
    "#data_dielectric_constant = pd.read_csv('Data_dielectric_constant.csv')\n",
    "all_props_values.fillna('', inplace = True)\n",
    "dfindex = all_props_values.index.values\n",
    "#print(all_cas_number)\n",
    "\n",
    "for idx in tqdm(dfindex):\n",
    "    if idx > 56:\n",
    "        cas_number = all_props_values.loc[idx, 'Cas Number']\n",
    "        formatted_dipole_moment = chemicals.dipole.dipole_moment(cas_number, method = 'MULLER')\n",
    "        dip_moment = all_props_values.loc[idx, 'Dipole Moment']\n",
    "        if dip_moment == '':\n",
    "               all_props_values.at[idx, 'Dipole Moment'] = formatted_dipole_moment\n",
    "    all_props_values.to_csv('Updated_with_dip_moment.csv')"
   ]
  },
  {
   "cell_type": "code",
   "execution_count": null,
   "id": "21d9bbc9-a6f9-4251-8f57-484f0c2535d7",
   "metadata": {},
   "outputs": [],
   "source": []
  }
 ],
 "metadata": {
  "kernelspec": {
   "display_name": "Python 3 (ipykernel)",
   "language": "python",
   "name": "python3"
  },
  "language_info": {
   "codemirror_mode": {
    "name": "ipython",
    "version": 3
   },
   "file_extension": ".py",
   "mimetype": "text/x-python",
   "name": "python",
   "nbconvert_exporter": "python",
   "pygments_lexer": "ipython3",
   "version": "3.11.0"
  }
 },
 "nbformat": 4,
 "nbformat_minor": 5
}
